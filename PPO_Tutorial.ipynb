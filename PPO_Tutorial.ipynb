{
 "cells": [
  {
   "cell_type": "markdown",
   "id": "009c2b0a",
   "metadata": {},
   "source": [
    "# Training PPO with Vector Envs and Domain Randomization 3D setting\n"
   ]
  },
  {
   "cell_type": "markdown",
   "id": "c523c60a",
   "metadata": {},
   "source": [
    "------------------------------\n"
   ]
  },
  {
   "cell_type": "markdown",
   "id": "326e954f",
   "metadata": {},
   "source": [
    "## Importing required libraries"
   ]
  },
  {
   "cell_type": "code",
   "execution_count": 1,
   "id": "39e29a31",
   "metadata": {},
   "outputs": [
    {
     "name": "stdout",
     "output_type": "stream",
     "text": [
      "===== classic_control =====\n",
      "Acrobot-v1             CartPole-v0            CartPole-v1\n",
      "MountainCar-v0         MountainCarContinuous-v0 Pendulum-v1\n",
      "===== phys2d =====\n",
      "phys2d/CartPole-v0     phys2d/CartPole-v1     phys2d/Pendulum-v0\n",
      "===== box2d =====\n",
      "BipedalWalker-v3       BipedalWalkerHardcore-v3 CarRacing-v3\n",
      "LunarLander-v3         LunarLanderContinuous-v3\n",
      "===== toy_text =====\n",
      "Blackjack-v1           CliffWalking-v0        FrozenLake-v1\n",
      "FrozenLake8x8-v1       Taxi-v3\n",
      "===== tabular =====\n",
      "tabular/Blackjack-v0   tabular/CliffWalking-v0\n",
      "===== mujoco =====\n",
      "Ant-v2                 Ant-v3                 Ant-v4\n",
      "Ant-v5                 HalfCheetah-v2         HalfCheetah-v3\n",
      "HalfCheetah-v4         HalfCheetah-v5         Hopper-v2\n",
      "Hopper-v3              Hopper-v4              Hopper-v5\n",
      "Humanoid-v2            Humanoid-v3            Humanoid-v4\n",
      "Humanoid-v5            HumanoidStandup-v2     HumanoidStandup-v4\n",
      "HumanoidStandup-v5     InvertedDoublePendulum-v2 InvertedDoublePendulum-v4\n",
      "InvertedDoublePendulum-v5 InvertedPendulum-v2    InvertedPendulum-v4\n",
      "InvertedPendulum-v5    Pusher-v2              Pusher-v4\n",
      "Pusher-v5              Reacher-v2             Reacher-v4\n",
      "Reacher-v5             Swimmer-v2             Swimmer-v3\n",
      "Swimmer-v4             Swimmer-v5             Walker2d-v2\n",
      "Walker2d-v3            Walker2d-v4            Walker2d-v5\n",
      "===== None =====\n",
      "GymV21Environment-v0   GymV26Environment-v0\n",
      "===== envs =====\n",
      "GridWorld-v0           GridWorld3D-v0\n"
     ]
    }
   ],
   "source": [
    "\n",
    "from __future__ import annotations\n",
    "\n",
    "import os\n",
    "\n",
    "import matplotlib.pyplot as plt\n",
    "import numpy as np\n",
    "import torch\n",
    "import torch.nn as nn\n",
    "from torch import optim\n",
    "from tqdm import tqdm\n",
    "\n",
    "import gymnasium as gym\n",
    "from gymnasium.vector import AsyncVectorEnv, SyncVectorEnv\n",
    "from gymnasium.wrappers.vector import RecordEpisodeStatistics, FlattenObservation\n",
    "# Ensure gym is installed\n",
    "#%pip install gym\n",
    "\n",
    "import gymnasium_env\n",
    "from gymnasium_env import PPO\n",
    "\n",
    "from gymnasium.envs.registration import register\n",
    "from gymnasium.utils import seeding\n",
    "\n",
    "gym.pprint_registry()"
   ]
  },
  {
   "cell_type": "code",
   "execution_count": 4,
   "id": "992f624e",
   "metadata": {},
   "outputs": [
    {
     "name": "stdout",
     "output_type": "stream",
     "text": [
      "<TimeLimit<OrderEnforcing<PassiveEnvChecker<GridWorldEnv<GridWorld-v0>>>>>\n"
     ]
    }
   ],
   "source": [
    "env = gym.make(\"GridWorld-v0\", max_episode_steps= 500, render_mode=\"human\")\n",
    "print(env)"
   ]
  },
  {
   "cell_type": "code",
   "execution_count": 5,
   "id": "37531f8f",
   "metadata": {},
   "outputs": [
    {
     "name": "stdout",
     "output_type": "stream",
     "text": [
      "Dict('agent': Box(0, 49, (2,), int32), 'target': Box(0, 49, (2,), int32))\n",
      "Discrete(4)\n",
      "None\n"
     ]
    }
   ],
   "source": [
    "print(env.observation_space)\n",
    "print(env.action_space)\n",
    "print(env.observation_space.shape)"
   ]
  },
  {
   "cell_type": "code",
   "execution_count": null,
   "id": "144dfff1",
   "metadata": {},
   "outputs": [],
   "source": [
    "q = np.zeros(50, env.action_space.n)\n",
    "print(q.shape)\n",
    "episodes = 3\n",
    "\n",
    "rewards_per_episode = np.zeros(episodes)\n",
    "\n",
    "learning_rate_a =  0.9\n",
    "discount_factor_g = 0.9\n",
    "\n",
    "\n",
    "epsilon = 1\n",
    "epsilon_decay_rate = 0.0001\n",
    "rng = np.random.default_rng()\n",
    "\n",
    "for i in range(episodes):\n",
    "\n",
    "\n",
    "    state,info = env.reset()\n",
    "    terminated = False\n",
    "    truncated = False\n",
    "\n",
    "    print(\"observation space:\", env.observation_space)\n",
    "    print(\"action space:\", env.action_space)\n",
    "    print(\"observation:\", state)\n",
    "    print(\"info:\", info)\n",
    "\n",
    "\n",
    "    while (not terminated and not truncated):\n",
    "        if rng.random() < epsilon:\n",
    "            action = env.action_space.sample()  # agent policy that uses the observation and info\n",
    "        else:\n",
    "            action = np.argmax(q[state,:])\n",
    "        new_state, reward, terminated, truncated, info = env.step(action)\n",
    "        q[state,action] = q[state,action] + learning_rate_a*(reward + discount_factor_g * np.max(q[new_state,:]) - q[state,action])\n",
    "    \n",
    "        #env.render()\n",
    "\n",
    "        episode_over = terminated or truncated\n",
    "        state = new_state\n",
    "\n",
    "epsilon = max(epsilon -epsilon_decay_rate, 0)  # decay epsilon\n",
    "    \n",
    "if(epsilon ==0):\n",
    "    learning_rate_a = 0.0001\n",
    "\n",
    "if reward == 1:\n",
    "    rewards_per_episode[i] = 1\n",
    "\n",
    "env.close()\n",
    "\n",
    "sum_rewards = np.zeros(episodes)\n",
    "for t in range(episodes):\n",
    "    sum_rewards[t] = np.sum(rewards_per_episode[max(0,t-100):(t+1)])\n",
    "plt.plot(sum_rewards)\n"
   ]
  },
  {
   "cell_type": "markdown",
   "id": "c2400c84",
   "metadata": {},
   "source": [
    "# Proximal Policy Optimization using Vectorize Environments"
   ]
  },
  {
   "cell_type": "markdown",
   "id": "1a960a57",
   "metadata": {},
   "source": [
    "## Environment Creation Randozimation"
   ]
  },
  {
   "cell_type": "markdown",
   "id": "8b5ba5fe",
   "metadata": {},
   "source": [
    "----------------------"
   ]
  },
  {
   "cell_type": "markdown",
   "id": "543b2660",
   "metadata": {},
   "source": [
    "Randomly generating the parameters for 3 parallel 'LunarLander-v3' envs, using `np.clip` to stay in the recommended parameter space:\n",
    "\n",
    "\n"
   ]
  },
  {
   "cell_type": "code",
   "execution_count": 2,
   "id": "acbb1a87",
   "metadata": {},
   "outputs": [
    {
     "name": "stdout",
     "output_type": "stream",
     "text": [
      "<OrderEnforcing<PassiveEnvChecker<GridWorld3DEnv<GridWorld3D-v0>>>>\n"
     ]
    }
   ],
   "source": [
    "env = gym.make(\"GridWorld3D-v0\")\n",
    "print(env)"
   ]
  },
  {
   "cell_type": "markdown",
   "id": "89f44e6e",
   "metadata": {},
   "source": [
    "### Synchronous Vectorization"
   ]
  },
  {
   "cell_type": "code",
   "execution_count": 3,
   "id": "98fdc483",
   "metadata": {},
   "outputs": [
    {
     "data": {
      "text/plain": [
       "SyncVectorEnv(num_envs=6)"
      ]
     },
     "execution_count": 3,
     "metadata": {},
     "output_type": "execute_result"
    }
   ],
   "source": [
    "# Define the function that will create each individual environment\n",
    "def make_env():\n",
    "    return gym.make(\"GridWorld3D-v0\", max_episode_steps=800)\n",
    "\n",
    "# Create a SyncVectorEnv with 6 parallel environments\n",
    "envs = SyncVectorEnv([lambda: make_env() for _ in range(6)])\n",
    "\n",
    "# Verify the environment\n",
    "envs"
   ]
  },
  {
   "cell_type": "markdown",
   "id": "fc2d735c",
   "metadata": {},
   "source": [
    "## Setup"
   ]
  },
  {
   "cell_type": "code",
   "execution_count": 4,
   "id": "a617490c",
   "metadata": {},
   "outputs": [],
   "source": [
    "#environment hyperparameters\n",
    "n_envs = 6\n",
    "n_updates = 1000\n",
    "n_steps_per_update = 64\n"
   ]
  },
  {
   "cell_type": "code",
   "execution_count": 5,
   "id": "3763598b",
   "metadata": {},
   "outputs": [],
   "source": [
    "# agent hyperparams\n",
    "gamma = 0.999\n",
    "lam = 0.95  # hyperparameter for GAE\n",
    "ent_coef = 0.01  # coefficient for the entropy bonus (to encourage exploration)\n",
    "actor_lr = 0.001\n",
    "critic_lr = 0.005\n",
    "n_features = 4"
   ]
  },
  {
   "cell_type": "code",
   "execution_count": 6,
   "id": "f0e64f50",
   "metadata": {},
   "outputs": [],
   "source": [
    "# set the device\n",
    "use_cuda = False\n",
    "if use_cuda:\n",
    "    device = torch.device(\"cuda\" if torch.cuda.is_available() else \"cpu\")\n",
    "else:\n",
    "    device = torch.device(\"cpu\")"
   ]
  },
  {
   "cell_type": "markdown",
   "id": "8b34d7a2",
   "metadata": {},
   "source": [
    "### Print Environment Spaces"
   ]
  },
  {
   "cell_type": "code",
   "execution_count": 7,
   "id": "db87dd4a",
   "metadata": {},
   "outputs": [
    {
     "name": "stdout",
     "output_type": "stream",
     "text": [
      "Observation space: Dict('agent': Box(0.0, 50.0, (6, 3), float32), 'target': Box(0.0, 50.0, (6, 3), float32))\n",
      "Action space: Box(-1.0, 1.0, (6, 3), float32)\n",
      "Agent space: Box(0.0, 50.0, (6, 3), float32)\n",
      "Target space: Box(0.0, 50.0, (6, 3), float32)\n"
     ]
    }
   ],
   "source": [
    "# Access the observation space of the wrapped environment\n",
    "obs_space = envs.observation_space\n",
    "print(\"Observation space:\", obs_space)\n",
    "\n",
    "# Access the action space of the wrapped environment\n",
    "action_space = envs.action_space\n",
    "print(\"Action space:\", action_space)\n",
    "\n",
    "# Access the individual spaces of the observation dictionary\n",
    "agent_space = obs_space[\"agent\"]\n",
    "target_space = obs_space[\"target\"]\n",
    "print(\"Agent space:\", agent_space)\n",
    "print(\"Target space:\", target_space)"
   ]
  },
  {
   "cell_type": "markdown",
   "id": "aa76733a",
   "metadata": {},
   "source": [
    "## Initialized The Agent"
   ]
  },
  {
   "cell_type": "code",
   "execution_count": 8,
   "id": "81972aa0",
   "metadata": {},
   "outputs": [
    {
     "name": "stdout",
     "output_type": "stream",
     "text": [
      "Observation shape: 6\n",
      "Action shape: 3\n",
      "Box(0.0, 50.0, (6,), float32)\n"
     ]
    }
   ],
   "source": [
    "envs = FlattenObservation(envs)\n",
    "obs_shape = envs.single_observation_space.shape[0]\n",
    "action_shape = envs.single_action_space.shape[0]\n",
    "print(\"Observation shape:\", obs_shape)\n",
    "print(\"Action shape:\", action_shape)   \n",
    "print(envs.single_observation_space)"
   ]
  },
  {
   "cell_type": "code",
   "execution_count": 9,
   "id": "320c66ca",
   "metadata": {},
   "outputs": [
    {
     "data": {
      "text/plain": [
       "<FlattenObservation, SyncVectorEnv(num_envs=6)>"
      ]
     },
     "execution_count": 9,
     "metadata": {},
     "output_type": "execute_result"
    }
   ],
   "source": [
    "envs"
   ]
  },
  {
   "cell_type": "code",
   "execution_count": 10,
   "id": "8c00e2bf",
   "metadata": {},
   "outputs": [
    {
     "name": "stdout",
     "output_type": "stream",
     "text": [
      "PPO(\n",
      "  (critic): Sequential(\n",
      "    (0): Linear(in_features=6, out_features=32, bias=True)\n",
      "    (1): ReLU()\n",
      "    (2): Linear(in_features=32, out_features=32, bias=True)\n",
      "    (3): ReLU()\n",
      "    (4): Linear(in_features=32, out_features=1, bias=True)\n",
      "  )\n",
      "  (actor): Sequential(\n",
      "    (0): Linear(in_features=6, out_features=32, bias=True)\n",
      "    (1): ReLU()\n",
      "    (2): Linear(in_features=32, out_features=32, bias=True)\n",
      "    (3): ReLU()\n",
      "    (4): Linear(in_features=32, out_features=3, bias=True)\n",
      "  )\n",
      ")\n"
     ]
    }
   ],
   "source": [
    "# Ensure PPO is correctly imported and callable\n",
    "from gymnasium_env.PPO import PPO\n",
    "\n",
    "# init the agent\n",
    "agent = PPO(obs_shape, action_shape, device, critic_lr, actor_lr, n_envs)\n",
    "print(agent)"
   ]
  },
  {
   "cell_type": "markdown",
   "id": "4f7a6c08",
   "metadata": {},
   "source": [
    "# Training the  PPO Agent"
   ]
  },
  {
   "cell_type": "markdown",
   "id": "e64e1194",
   "metadata": {},
   "source": [
    "## PPO\n",
    "\n",
    "For our training loop, we are using the `RecordEpisodeStatistics` wrapper to record the episode lengths and returns and we are also saving\n",
    "the losses and entropies to plot them after the agent finished training.\n",
    "\n",
    "You may notice that we don't reset the vectorized envs at the start of each episode like we would usually do.\n",
    "This is because each environment resets automatically once the episode finishes (each environment takes a different number of timesteps to finish\n",
    "an episode because of the random seeds). As a result, we are also not collecting data in `episodes`, but rather just play a certain number of steps\n",
    "(`n_steps_per_update`) in each environment (as an example, this could mean that we play 20 timesteps to finish an episode and then\n",
    "use the rest of the timesteps to begin a new one).\n",
    "\n",
    "\n"
   ]
  },
  {
   "cell_type": "code",
   "execution_count": 11,
   "id": "f07b327b",
   "metadata": {},
   "outputs": [
    {
     "data": {
      "text/plain": [
       "<FlattenObservation, SyncVectorEnv(num_envs=6)>"
      ]
     },
     "execution_count": 11,
     "metadata": {},
     "output_type": "execute_result"
    }
   ],
   "source": [
    "envs"
   ]
  },
  {
   "cell_type": "code",
   "execution_count": 12,
   "id": "81ef1474",
   "metadata": {},
   "outputs": [
    {
     "data": {
      "text/plain": [
       "<RecordEpisodeStatistics, <FlattenObservation, SyncVectorEnv(num_envs=6)>>"
      ]
     },
     "execution_count": 12,
     "metadata": {},
     "output_type": "execute_result"
    }
   ],
   "source": [
    "envs = RecordEpisodeStatistics(envs)\n",
    "envs"
   ]
  },
  {
   "cell_type": "code",
   "execution_count": 13,
   "id": "ba11a1ee",
   "metadata": {},
   "outputs": [
    {
     "name": "stderr",
     "output_type": "stream",
     "text": [
      "100%|██████████| 1000/1000 [01:09<00:00, 14.45it/s]\n"
     ]
    }
   ],
   "source": [
    "critic_losses = []\n",
    "actor_losses = []\n",
    "entropies = []\n",
    "\n",
    "# use tqdm to get a progress bar for training\n",
    "for sample_phase in tqdm(range(n_updates)):\n",
    "    # we don't have to reset the envs, they just continue playing\n",
    "    # until the episode is over and then reset automatically\n",
    "\n",
    "    # reset lists that collect experiences of an episode (sample phase)\n",
    "    ep_value_preds = torch.zeros(n_steps_per_update, n_envs, device=device)\n",
    "    ep_rewards = torch.zeros(n_steps_per_update, n_envs, device=device)\n",
    "    ep_action_log_probs = torch.zeros(n_steps_per_update, n_envs, device=device)\n",
    "    masks = torch.zeros(n_steps_per_update, n_envs, device=device)\n",
    "\n",
    "    # at the start of training reset all envs to get an initial state\n",
    "    \n",
    "    if sample_phase == 0:\n",
    "        states, info = envs.reset(seed=42)\n",
    "    \n",
    "    # play n steps in our parallel environments to collect data\n",
    "    for step in range(n_steps_per_update):\n",
    "        # select an action A_{t} using S_{t} as input for the agent\n",
    "        actions, action_log_probs, state_value_preds, entropy = agent.select_action(\n",
    "            states\n",
    "        )\n",
    "\n",
    "        # perform the action A_{t} in the environment to get S_{t+1} and R_{t+1}\n",
    "        states, rewards, terminated, truncated, infos = envs.step(\n",
    "            actions.cpu().numpy()\n",
    "        )\n",
    "\n",
    "        ep_value_preds[step] = torch.squeeze(state_value_preds)\n",
    "        ep_rewards[step] = torch.tensor(rewards, device=device)\n",
    "        ep_action_log_probs[step] = action_log_probs\n",
    "\n",
    "        # add a mask (for the return calculation later);\n",
    "        # for each env the mask is 1 if the episode is ongoing and 0 if it is terminated (not by truncation!)\n",
    "        masks[step] = torch.tensor([not term for term in terminated])\n",
    "\n",
    "    # calculate the losses for actor and critic\n",
    "    critic_loss, actor_loss = agent.get_losses(\n",
    "        ep_rewards,\n",
    "        ep_action_log_probs,\n",
    "        ep_value_preds,\n",
    "        entropy,\n",
    "        masks,\n",
    "        gamma,\n",
    "        lam,\n",
    "        ent_coef,\n",
    "        device,\n",
    "    )\n",
    "\n",
    "    # update the actor and critic networks\n",
    "    agent.update_parameters(critic_loss, actor_loss)\n",
    "\n",
    "    # log the losses and entropy\n",
    "    critic_losses.append(critic_loss.detach().cpu().numpy())\n",
    "    actor_losses.append(actor_loss.detach().cpu().numpy())\n",
    "    entropies.append(entropy.detach().mean().cpu().numpy())"
   ]
  },
  {
   "cell_type": "markdown",
   "id": "09951a90",
   "metadata": {},
   "source": [
    "## Plotting"
   ]
  },
  {
   "cell_type": "code",
   "execution_count": 14,
   "id": "e0ffa752",
   "metadata": {},
   "outputs": [
    {
     "data": {
      "image/png": "[encoded data removed]",
      "text/plain": [
       "<Figure size 1200x500 with 4 Axes>"
      ]
     },
     "metadata": {},
     "output_type": "display_data"
    }
   ],
   "source": [
    "\"\"\" plot the results \"\"\"\n",
    "\n",
    "# %matplotlib inline\n",
    "randomize_domain = False\n",
    "rolling_length = 20\n",
    "fig, axs = plt.subplots(nrows=2, ncols=2, figsize=(12, 5))\n",
    "fig.suptitle(\n",
    "    f\"Training plots for {agent.__class__.__name__} in the GridWorld-v0 environment \\n \\\n",
    "             (n_envs={n_envs}, n_steps_per_update={n_steps_per_update}, randomize_domain={randomize_domain})\"\n",
    ")\n",
    "\n",
    "# episode return\n",
    "axs[0][0].set_title(\"Episode Returns\")\n",
    "episode_returns_moving_average = (\n",
    "    np.convolve(\n",
    "        np.array(envs.return_queue).flatten(),\n",
    "        np.ones(rolling_length),\n",
    "        mode=\"valid\",\n",
    "    )\n",
    "    / rolling_length\n",
    ")\n",
    "axs[0][0].plot(\n",
    "    np.arange(len(episode_returns_moving_average)) / n_envs,\n",
    "    episode_returns_moving_average,\n",
    ")\n",
    "axs[0][0].set_xlabel(\"Number of episodes\")\n",
    "\n",
    "# entropy\n",
    "axs[1][0].set_title(\"Entropy\")\n",
    "entropy_moving_average = (\n",
    "    np.convolve(np.array(entropies), np.ones(rolling_length), mode=\"valid\")\n",
    "    / rolling_length\n",
    ")\n",
    "axs[1][0].plot(entropy_moving_average)\n",
    "axs[1][0].set_xlabel(\"Number of updates\")\n",
    "\n",
    "\n",
    "# critic loss\n",
    "axs[0][1].set_title(\"Critic Loss\")\n",
    "critic_losses_moving_average = (\n",
    "    np.convolve(\n",
    "        np.array(critic_losses).flatten(), np.ones(rolling_length), mode=\"valid\"\n",
    "    )\n",
    "    / rolling_length\n",
    ")\n",
    "axs[0][1].plot(critic_losses_moving_average)\n",
    "axs[0][1].set_xlabel(\"Number of updates\")\n",
    "\n",
    "\n",
    "# actor loss\n",
    "axs[1][1].set_title(\"Actor Loss\")\n",
    "actor_losses_moving_average = (\n",
    "    np.convolve(np.array(actor_losses).flatten(), np.ones(rolling_length), mode=\"valid\")\n",
    "    / rolling_length\n",
    ")\n",
    "axs[1][1].plot(actor_losses_moving_average)\n",
    "axs[1][1].set_xlabel(\"Number of updates\")\n",
    "\n",
    "plt.tight_layout()\n",
    "plt.show()"
   ]
  },
  {
   "cell_type": "markdown",
   "id": "8ee6457b",
   "metadata": {},
   "source": [
    "# Agent Evaluation"
   ]
  },
  {
   "cell_type": "code",
   "execution_count": null,
   "id": "8fc3e926",
   "metadata": {},
   "outputs": [],
   "source": [
    "\"\"\" play a couple of showcase episodes \"\"\"\n",
    "n_showcase_episodes = 6\n",
    "\n",
    "for episode in range(n_showcase_episodes):\n",
    "    print(f\"starting episode {episode}...\")\n",
    "\n",
    "    env = gym.make(\"GridWorld3D-v0\", render_mode = \"human\", max_episode_steps=500)\n",
    "\n",
    "    env = gym.wrappers.FlattenObservation(env)\n",
    "    # get an initial state\n",
    "    state, info = env.reset()\n",
    "    print(state)\n",
    "    print(env)\n",
    "\n",
    "    # play one episode\n",
    "    done = False\n",
    "    while not done:\n",
    "        # select an action A_{t} using S_{t} as input for the agent\n",
    "        with torch.no_grad():\n",
    "            action, _, _, _ = agent.select_action(state[None,:])\n",
    "        # perform the action A_{t} in the environment to get S_{t+1} and R_{t+1}\n",
    "        state, reward, terminated, truncated, info = env.step(action.detach().cpu().numpy().astype(np.float32))\n",
    "        print(\"azioni\",action)\n",
    "        print(\"stato\",state)\n",
    "        #env.unwrapped.render()\n",
    "\n",
    "        # update if the environment is done\n",
    "        done = terminated or truncated\n",
    "\n",
    "env.close()\n"
   ]
  },
  {
   "cell_type": "code",
   "execution_count": null,
   "id": "7bb88fd3",
   "metadata": {},
   "outputs": [
    {
     "name": "stdout",
     "output_type": "stream",
     "text": [
      "Box(0.0, 50.0, (6,), float32)\n",
      "Box(-1.0, 1.0, (3,), float32)\n"
     ]
    }
   ],
   "source": [
    "print(env.observation_space)\n",
    "print(env.action_space)"
   ]
  }
 ],
 "metadata": {
  "kernelspec": {
   "display_name": "Python 3",
   "language": "python",
   "name": "python3"
  },
  "language_info": {
   "codemirror_mode": {
    "name": "ipython",
    "version": 3
   },
   "file_extension": ".py",
   "mimetype": "text/x-python",
   "name": "python",
   "nbconvert_exporter": "python",
   "pygments_lexer": "ipython3",
   "version": "3.9.13"
  }
 },
 "nbformat": 4,
 "nbformat_minor": 5
}
